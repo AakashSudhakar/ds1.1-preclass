{
 "cells": [
  {
   "cell_type": "markdown",
   "metadata": {},
   "source": [
    "# Z-Scores"
   ]
  },
  {
   "cell_type": "markdown",
   "metadata": {},
   "source": [
    "One of the most powerful operations that you can perform when you have a normal (also known as Gaussian) distribution is the calculation of z-scores.\n",
    "\n",
    "What are z-scores and why are they important in statistics? A z-score (which you'll also see as standard score) is an indicator **how many standard deviations** a data point is from the mean of the distribution it came from. In other words, a z-score tells us **how usual or unusual a data point is**.\n",
    "\n",
    "With a normal distribution, the **standard deviation** is a measure of how **wide** the distribution is. That is, most data (68%) is within the range from one standard deviation to the left and one standard deviation to the right of the mean, almost all data (95%) is within two standard deviations of the mean, and data that is far outside that range can be considered outliers.\n",
    "\n",
    "So, what do we need to get started? First, we need to generate a **normal distribution** via sampling (if the distribution is not already normal) and then we need to calculate the mean and standard deviation. We also need the given value (or several values) from the dataset for which we want to calculate a z-score (or several z-scores).\n",
    "\n",
    "Given all this information, calculating a z-score is straightforward:\n",
    "<code><pre>x = value_from_dataset\n",
    "mean = mean_of_dataset\n",
    "std =  std_of_dataset\n",
    "z_score  = (x - mean)/std\n",
    "</pre></code>\n",
    "\n",
    "Why did we subtract the mean and divide by the standard deviation? That's because to calculate a z-score, we need to **standardize** the normal distribution so we can work in the same scale for any dataset. First, we subtract the mean from that point, which gives us a number indicating how far to the left or right the data point is offset from the mean. Then, we dividing the result by the standard deviation, which scales the offset up or down to the **standard normal scale**.\n",
    "\n",
    "Luckily for us, the **SciPy** package in Python provides us with a way to not only calculate a single z-score, but an entire array at once! Let's give this a look using the data of housefly wing lengths, since this data is already normally distributed."
   ]
  },
  {
   "cell_type": "code",
   "execution_count": 35,
   "metadata": {},
   "outputs": [
    {
     "data": {
      "text/plain": [
       "0.0"
      ]
     },
     "metadata": {},
     "output_type": "display_data"
    },
    {
     "data": {
      "text/plain": [
       "count    101.0\n",
       "mean      45.5\n",
       "std        3.9\n",
       "min       36.0\n",
       "25%       43.0\n",
       "50%       45.5\n",
       "75%       48.0\n",
       "max       55.0\n",
       "dtype: float64"
      ]
     },
     "metadata": {},
     "output_type": "display_data"
    },
    {
     "data": {
      "text/plain": [
       "<matplotlib.axes._subplots.AxesSubplot at 0x1a13826860>"
      ]
     },
     "execution_count": 35,
     "metadata": {},
     "output_type": "execute_result"
    },
    {
     "data": {
      "image/png": "[encoded data removed]",
      "text/plain": [
       "<matplotlib.figure.Figure at 0x1a13842cc0>"
      ]
     },
     "metadata": {},
     "output_type": "display_data"
    }
   ],
   "source": [
    "# Import the stats package from scipy as st\n",
    "import scipy.stats as st\n",
    "import pandas as pd\n",
    "%matplotlib inline\n",
    "\n",
    "housefly_data = pd.Series([36,37,38,38,39,39,40,40,40,40,41,41,41,41,41,41,42,42,42,42,42,42,42,43,43,43,43,43,43,43,43,44,44,44,44,44,44,44,44,44,45,45,45,45,45,45,45,45,45,45,45.5,46,46,46,46,46,46,46,46,46,46,47,47,47,47,47,47,47,47,47,48,48,48,48,48,48,48,48,49,49,49,49,49,49,49,50,50,50,50,50,50,51,51,51,51,52,52,53,53,54,55])\n",
    "\n",
    "# Just to make sure that the data is not skewed, we can do two things, we can check the amount of skew by using the .skew() method\n",
    "\n",
    "display(housefly_data.skew()) # We see that there is a skew of 0, meaning that it is balanced as a normal distribution on both\n",
    "\n",
    "# Just to get the descriptive stats lets use the .describe() method to check on our mean, std and median\n",
    "display(housefly_data.describe())\n",
    "\n",
    "# Now, let's visualize it!\n",
    "housefly_data.plot.hist()"
   ]
  },
  {
   "cell_type": "code",
   "execution_count": 29,
   "metadata": {},
   "outputs": [
    {
     "data": {
      "text/plain": [
       "array([-2.44804663, -2.19035751, -1.93266839, -1.93266839, -1.67497927,\n",
       "       -1.67497927, -1.41729015, -1.41729015, -1.41729015, -1.41729015,\n",
       "       -1.15960103, -1.15960103, -1.15960103, -1.15960103, -1.15960103,\n",
       "       -1.15960103, -0.90191191, -0.90191191, -0.90191191, -0.90191191,\n",
       "       -0.90191191, -0.90191191, -0.90191191, -0.6442228 , -0.6442228 ,\n",
       "       -0.6442228 , -0.6442228 , -0.6442228 , -0.6442228 , -0.6442228 ,\n",
       "       -0.6442228 , -0.38653368, -0.38653368, -0.38653368, -0.38653368,\n",
       "       -0.38653368, -0.38653368, -0.38653368, -0.38653368, -0.38653368,\n",
       "       -0.12884456, -0.12884456, -0.12884456, -0.12884456, -0.12884456,\n",
       "       -0.12884456, -0.12884456, -0.12884456, -0.12884456, -0.12884456,\n",
       "        0.        ,  0.12884456,  0.12884456,  0.12884456,  0.12884456,\n",
       "        0.12884456,  0.12884456,  0.12884456,  0.12884456,  0.12884456,\n",
       "        0.12884456,  0.38653368,  0.38653368,  0.38653368,  0.38653368,\n",
       "        0.38653368,  0.38653368,  0.38653368,  0.38653368,  0.38653368,\n",
       "        0.6442228 ,  0.6442228 ,  0.6442228 ,  0.6442228 ,  0.6442228 ,\n",
       "        0.6442228 ,  0.6442228 ,  0.6442228 ,  0.90191191,  0.90191191,\n",
       "        0.90191191,  0.90191191,  0.90191191,  0.90191191,  0.90191191,\n",
       "        1.15960103,  1.15960103,  1.15960103,  1.15960103,  1.15960103,\n",
       "        1.15960103,  1.41729015,  1.41729015,  1.41729015,  1.41729015,\n",
       "        1.67497927,  1.67497927,  1.93266839,  1.93266839,  2.19035751,\n",
       "        2.44804663])"
      ]
     },
     "execution_count": 29,
     "metadata": {},
     "output_type": "execute_result"
    }
   ],
   "source": [
    "# We can use SciPy's zscore function to calculate the z-score of every data point in one call\n",
    "st.zscore(housefly_data)"
   ]
  },
  {
   "cell_type": "markdown",
   "metadata": {},
   "source": [
    "## Z-Scores to Probability"
   ]
  },
  {
   "cell_type": "markdown",
   "metadata": {},
   "source": [
    "Ok so, we can use these to see how far each of our values are away from the mean based on standard deviation. But what can we do with this information? We can calculate both the cumulative distribution (which gives us the percentaile rank) and the survival (which will give us the opposite, the remaining percent outside of the observed percentile). You wil also see these referred to as the relative frequency.\n",
    "\n",
    "These can be observed as the area of occurence under the curve of a normal distribution to the left of a data point (cumulative distribution) or to the right of a data point (survival). Remember that for probability the total area under the curve is 1.0 which represents all of the observed points of data occuring. 100/100 in this case or 100% of the datapoints being observed in that range.\n",
    "\n",
    "Let's visualize this on some graphs of the standard normal distribution so it's easier to understand."
   ]
  },
  {
   "cell_type": "markdown",
   "metadata": {},
   "source": [
    "The total area under the curve is 1.0 for the whole graph:"
   ]
  },
  {
   "cell_type": "markdown",
   "metadata": {},
   "source": [
    "<img src=\"z-1.gif\"/>\n"
   ]
  },
  {
   "cell_type": "markdown",
   "metadata": {},
   "source": [
    "Let's say we just want to get the relative frequency of observations **below** a z-score of `1.18`.\n",
    "\n",
    "To compute the cumulative area to the **left** of a z-score, use the **cumulative density function** (a.k.a. **cdf**). The observed values are within the blue area below:"
   ]
  },
  {
   "cell_type": "markdown",
   "metadata": {},
   "source": [
    "<img src=\"z-2.gif\">"
   ]
  },
  {
   "cell_type": "markdown",
   "metadata": {},
   "source": [
    "Now, let's say we get curious and want to know the exact opposite, that is, the relative frequency of observations **above** a z-score of `-1.48`?\n",
    "\n",
    "To compute the cumulative area to the **right** of a z-score, use the **survival function** (a.k.a. **sf**). The observed results are within this blue area:"
   ]
  },
  {
   "cell_type": "markdown",
   "metadata": {},
   "source": [
    "<img src=\"z-3.gif\"/>"
   ]
  },
  {
   "cell_type": "markdown",
   "metadata": {},
   "source": [
    "Let's finally get into some code so we can work with these new functions on our actual dataset!"
   ]
  },
  {
   "cell_type": "code",
   "execution_count": 30,
   "metadata": {},
   "outputs": [],
   "source": [
    "import scipy.stats as st\n",
    "# Example use:\n",
    "# A Z-score of 1.64 == ~95% to the left, ~5% to the right\n",
    "\n",
    "# To use the cumulative density function, use the following function\n",
    "left_tail = st.norm.cdf(1.64)\n",
    "\n",
    "# To get the survival, use this function\n",
    "right_tail = st.norm.sf(1.64)"
   ]
  },
  {
   "cell_type": "markdown",
   "metadata": {},
   "source": [
    "Just to make sure that our numbers add up from a probability perspective, lets check by adding the left and the right tai, we shiuld get a value of 1.0"
   ]
  },
  {
   "cell_type": "code",
   "execution_count": 31,
   "metadata": {},
   "outputs": [
    {
     "name": "stdout",
     "output_type": "stream",
     "text": [
      "Area under curve to the left that shows the relative frequency: 0.9494974165258963\n",
      "Area under curve to the right that shows the relative frequency: 0.05050258347410371\n",
      "Total area under curve: 1.0\n"
     ]
    }
   ],
   "source": [
    "print(\"Area under curve to the left that shows the relative frequency: {}\".format(left_tail))\n",
    "print(\"Area under curve to the right that shows the relative frequency: {}\".format(right_tail))\n",
    "print(\"Total area under curve: {}\".format(left_tail + right_tail))"
   ]
  },
  {
   "cell_type": "markdown",
   "metadata": {},
   "source": [
    "Let's turn this into percentages and give a better explanation!"
   ]
  },
  {
   "cell_type": "code",
   "execution_count": 33,
   "metadata": {},
   "outputs": [
    {
     "name": "stdout",
     "output_type": "stream",
     "text": [
      "Percentage of data points below the observed z-score: 94.94974165258962%\n",
      "Percentage of data points above the observed z-score: 5.050258347410371%\n",
      "Total percentage of data points this accounts for: 100.0%\n"
     ]
    }
   ],
   "source": [
    "print(\"Percentage of data points below the observed z-score: {}%\".format(left_tail * 100))\n",
    "print(\"Percentage of data points above the observed z-score: {}%\".format(right_tail * 100))\n",
    "print(\"Total percentage of data points this accounts for: {}%\".format((left_tail + right_tail)* 100))"
   ]
  },
  {
   "cell_type": "markdown",
   "metadata": {},
   "source": [
    "Now to put these ideas into practice! Try to answer the following questions:\n",
    "\n",
    "1. Let's say the average height of all students at Make School is 5' 7\" (5 feet 7 inches), with a standard deviation of 3 inches.\n",
    "  - 1A. What percentage of students are *shorter* than 5' 5\" tall?\n",
    "  - 1B. What percentage of students are *taller* than 6' 1\" tall?\n",
    "  - 1C. What percentage of students are *between* 5' 5\" and 6' 1\" tall? How can you use the answers to the previous two questions to find this answer?"
   ]
  },
  {
   "cell_type": "code",
   "execution_count": 37,
   "metadata": {},
   "outputs": [],
   "source": [
    "# Use the cumulative density function (st.norm.cdf) or survival function (st.norm.sf) to answer these questions\n"
   ]
  },
  {
   "cell_type": "markdown",
   "metadata": {},
   "source": [
    "2. The average startup in San Francisco raises 1.5 million dollars in funding with a standard deviation of 400,000 dollars. The CEO of your company wants to raise 3 million dollars. What percentage of other startups have managed to raise at least this amount?"
   ]
  },
  {
   "cell_type": "code",
   "execution_count": null,
   "metadata": {},
   "outputs": [],
   "source": []
  },
  {
   "cell_type": "markdown",
   "metadata": {},
   "source": [
    "3. You've decided to track the number of times Alan is heckled by Novan during a given class period. Novan averages 2.6 shady comments about Alan per class, with a standard deviation of 0.7 comments. Alan has had a rough day, and will probably do something to make Novan stay in his lane if Novan makes more than 2 comments about him today. What is the percentage chance that Alan will *NOT* drag Novan with shade in class today?"
   ]
  },
  {
   "cell_type": "code",
   "execution_count": null,
   "metadata": {},
   "outputs": [],
   "source": []
  }
 ],
 "metadata": {
  "kernelspec": {
   "display_name": "Python 3",
   "language": "python",
   "name": "python3"
  },
  "language_info": {
   "codemirror_mode": {
    "name": "ipython",
    "version": 3
   },
   "file_extension": ".py",
   "mimetype": "text/x-python",
   "name": "python",
   "nbconvert_exporter": "python",
   "pygments_lexer": "ipython3",
   "version": "3.6.5"
  }
 },
 "nbformat": 4,
 "nbformat_minor": 2
}
