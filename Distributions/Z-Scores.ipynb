{
 "cells": [
  {
   "cell_type": "markdown",
   "metadata": {},
   "source": [
    "# Z-Scores and Z-scores to Probability"
   ]
  },
  {
   "cell_type": "markdown",
   "metadata": {},
   "source": [
    "One of the most powerful operations that you can perform when you have a normal(also Gaussian) distribution is the calculation of Z-Scores from this. But what are Z-Scores and why are they important in statistics?\n",
    "A Z-score (which you'll also see as standard score) is an indicator **how many** standard deviations an element is from the mean.\n",
    "As you recall the standard deviation of a normal distribution tells you outside of a certain range, if data is closer to normal, or closer to being an outlier.\n",
    "\n",
    "So, what do we need to get started?\n",
    "\n",
    "First we need to make a normal distribution via sampling first( if the distribution is not already normal) and from there, we need the mean, the standard deviation, as well as the given value, or values that we want to calculate.\n",
    "\n",
    "\n",
    ">  x = given_value\n",
    "\n",
    ">  mean = mean_of_dataset\n",
    "\n",
    ">  std =  std_of_dataset\n",
    "\n",
    ">  z_score  = x - mean/std\n",
    "\n",
    "Luckily for us, the scipy package in python provides us with a way to not only calculate a single Z-Score, but an entire array at once! Let's give this a look."
   ]
  },
  {
   "cell_type": "code",
   "execution_count": 1,
   "metadata": {},
   "outputs": [],
   "source": [
    "# Import the stats package  from scipy as st\n",
    "import scipy.stats as st\n"
   ]
  },
  {
   "cell_type": "markdown",
   "metadata": {},
   "source": [
    "Try to answer the three following questions:\n",
    "\n",
    "1. The average height of students at Make School is 5'7\", with a standard deviation of 2.5 inches. What percentage of Make School students are between 5'5\" and 6' tall? \n",
    "\n",
    "2. The average startup in San Francisco raises 1.5 million dollars with a standard deviation of 400,000 dollars. Your boss wants to raise a 3 million dollar seed round. Based only on how other startups have done, what are the odds (percentage chance) that he will be successful? \n",
    "\n",
    "3. You've decided to track the number of jokes Alan makes at Mike's expense during a given class period. Alan averages 2.5 jokes about Mike per class, with a standard deviation of .7 jokes. Mike has had a rough day, and will probably start crying if Alan makes more than 2 jokes about him today. What is the percentage chance that Mike will NOT break down crying in class today?\n",
    "\n",
    "NOTE: To solve these questions, you can use a lookup-table for the Z-score, or just use the stats package inside of scipy.\n",
    "\n",
    "To compute the cumulative area to the left of a Z-score, use the cumulative density function. \n",
    "\n",
    "\n",
    "To compute the cumulative area to the right of a Z-score, use the survival function. \n",
    "\n",
    "\n",
    "Recall that to calculate a Z-score for a particular point, you need to normalize it by subtracting the mean from that point, and then dividing that number by the standard deviation."
   ]
  },
  {
   "cell_type": "code",
   "execution_count": null,
   "metadata": {},
   "outputs": [],
   "source": [
    "stats.zscore()\n",
    "stats.cdf()\n",
    "stats.pdf()\n",
    "stats.sf()"
   ]
  }
 ],
 "metadata": {
  "kernelspec": {
   "display_name": "Python 3",
   "language": "python",
   "name": "python3"
  },
  "language_info": {
   "codemirror_mode": {
    "name": "ipython",
    "version": 3
   },
   "file_extension": ".py",
   "mimetype": "text/x-python",
   "name": "python",
   "nbconvert_exporter": "python",
   "pygments_lexer": "ipython3",
   "version": "3.6.5"
  }
 },
 "nbformat": 4,
 "nbformat_minor": 2
}
